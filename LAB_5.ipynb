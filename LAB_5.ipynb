{
  "nbformat": 4,
  "nbformat_minor": 0,
  "metadata": {
    "colab": {
      "name": "LAB 5.ipynb",
      "provenance": []
    },
    "kernelspec": {
      "name": "python3",
      "display_name": "Python 3"
    },
    "language_info": {
      "name": "python"
    }
  },
  "cells": [
    {
      "cell_type": "code",
      "execution_count": null,
      "metadata": {
        "id": "KV-QXjaFRIxU"
      },
      "outputs": [],
      "source": [
        "import time as t\n",
        "\n",
        "puzzle=[]\n",
        "solved=[1, 2, 3, 4, 5, 6, 7, 8, 0]\n",
        "def zeroindex(puzzle):\n",
        "    for i in range(9):\n",
        "        if puzzle[i] == 0:\n",
        "            return i\n",
        "            break"
      ]
    },
    {
      "cell_type": "code",
      "source": [
        "def check(puzzle):\n",
        "    count=0\n",
        "    for i in range(9):\n",
        "        for j in range(i+1, 9):\n",
        "            if j==9:\n",
        "                break\n",
        "            if puzzle[i]>puzzle[j] and puzzle[i]!=0 and puzzle[j]!=0:\n",
        "                count+=1\n",
        "    if (not count%2):\n",
        "        return True\n",
        "    else:\n",
        "        return False\n"
      ],
      "metadata": {
        "id": "yFiejCVcRmBd"
      },
      "execution_count": null,
      "outputs": []
    },
    {
      "cell_type": "code",
      "source": [
        "def heuristic(puzzle):         \n",
        "    man_dist=sum(abs((val-1)%3 - i%3) + abs((val-1)//3 - i//3) for i, val in enumerate(puzzle) if val)\n",
        "    return man_dist"
      ],
      "metadata": {
        "id": "yCkKFmkLRmEj"
      },
      "execution_count": null,
      "outputs": []
    },
    {
      "cell_type": "code",
      "source": [
        "def min_heuristics(lists):     \n",
        "    min=999999\n",
        "    for i in range(len(lists)):\n",
        "        if lists[i]<min:\n",
        "            min=lists[i]\n",
        "            index=i\n",
        "    return(index)"
      ],
      "metadata": {
        "id": "qwoExhOIRmIO"
      },
      "execution_count": null,
      "outputs": []
    },
    {
      "cell_type": "code",
      "source": [
        "def machineplay(puzzle):\n",
        "    openlist=[]\n",
        "    openLIST=[]\n",
        "    closedlist=[]\n",
        "    heuristicval=[]\n",
        "    openlist.append(puzzle)\n",
        "    x=[]\n",
        "    x=openlist.pop(0)\n",
        "    a=x[9]                                                          \n",
        "    while x[:9]!=solved:\n",
        "        if a%3!=0:                                                  \n",
        "            statespace1=x.copy()\n",
        "            temp=statespace1[a]\n",
        "            statespace1[a]=statespace1[a-1]\n",
        "            statespace1[a-1]=temp\n",
        "            statespace1[9]=a-1\n",
        "            statespace1.append(\"LEFT\")\n",
        "            \n",
        "            if statespace1[:9] == solved:\n",
        "                print(\"SOLVED!\")\n",
        "                print(\"The steps to solve are:- \\n\")\n",
        "                print(\", \".join(statespace1[10:]))\n",
        "                break\n",
        "            else:\n",
        "                if statespace1[:9] not in closedlist and statespace1[:9] not in openLIST:\n",
        "                    openlist.append(statespace1)    \n",
        "                    openLIST.append(statespace1[:9]) \n",
        "                    heuristicval.append(heuristic(statespace1[:9]))\n",
        "\n",
        "        \n",
        "        if a%3!=2:                                                 \n",
        "            statespace2=x.copy()\n",
        "            temp=statespace2[a]\n",
        "            statespace2[a]=statespace2[a+1]\n",
        "            statespace2[a+1]=temp\n",
        "            statespace2[9]=a+1\n",
        "            statespace2.append(\"RIGHT\")\n",
        "            \n",
        "            if statespace2[:9] == solved:\n",
        "                print(\"SOLVED!\")\n",
        "                print(\"The steps to solve are:- \\n\")\n",
        "                print(\", \".join(statespace2[10:]))\n",
        "                break\n",
        "            else:\n",
        "                if statespace2[:9] not in closedlist and statespace2[:9] not in openLIST:\n",
        "                    openlist.append(statespace2)\n",
        "                    openLIST.append(statespace2[:9])\n",
        "                    heuristicval.append(heuristic(statespace2[:9]))\n",
        "\n",
        "        if a!=0 and a!=1 and a!=2:                                    \n",
        "            statespace3=x.copy()\n",
        "            temp=statespace3[a]\n",
        "            statespace3[a]=statespace3[a-3]\n",
        "            statespace3[a-3]=temp\n",
        "            statespace3[9]=a-3\n",
        "            statespace3.append(\"UP\")\n",
        "            \n",
        "            if statespace3[:9] == solved:\n",
        "                print(\"SOLVED!\")\n",
        "                print(\"The steps to solve are:- \\n\")\n",
        "                print(\", \".join(statespace3[10:]))\n",
        "                break\n",
        "            else:\n",
        "                if statespace3[:9] not in closedlist and statespace3[:9] not in openLIST:\n",
        "                    openlist.append(statespace3)\n",
        "                    openLIST.append(statespace3[:9])\n",
        "                    heuristicval.append(heuristic(statespace3[:9]))\n",
        "\n",
        "        if a!=6 and a!=7 and a!=8:                                    \n",
        "            statespace4=x.copy()\n",
        "            temp=statespace4[a]\n",
        "            statespace4[a]=statespace4[a+3]\n",
        "            statespace4[a+3]=temp\n",
        "            statespace4[9]=a+3\n",
        "            statespace4.append(\"DOWN\")\n",
        "            if statespace4[:9] == solved:\n",
        "                print(\"\\nSOLVED!\")\n",
        "                print(\"\\nThe steps to solve are:- \")\n",
        "                print(\", \".join(statespace4[10:]))\n",
        "                break\n",
        "            else:\n",
        "                if statespace4[:9] not in closedlist and statespace4[:9] not in openLIST:\n",
        "                    openlist.append(statespace4)\n",
        "                    openLIST.append(statespace4[:9])\n",
        "                    heuristicval.append(heuristic(statespace4[:9]))\n",
        "        closedlist.append(x[:9])\n",
        "        y=min_heuristics(heuristicval)\n",
        "        tem=heuristicval.pop(y)\n",
        "        x=openlist.pop(y)\n",
        "        a=x[9]"
      ],
      "metadata": {
        "id": "nK0bXKNjRmLb"
      },
      "execution_count": null,
      "outputs": []
    },
    {
      "cell_type": "code",
      "source": [
        "def show_board(puzzle):\n",
        "            print(\"\"\"\\n+---+---+---+\n",
        "| {} | {} | {} |\n",
        "+---+---+---+\n",
        "| {} | {} | {} |\n",
        "+---+---+---+\n",
        "| {} | {} | {} |\n",
        "+---+---+---+\"\"\".format(puzzle[0], puzzle[1], puzzle[2], puzzle[3], puzzle[4], puzzle[5], puzzle[6], puzzle[7], puzzle[8]))"
      ],
      "metadata": {
        "id": "g6LmGst_SAIF"
      },
      "execution_count": null,
      "outputs": []
    },
    {
      "cell_type": "code",
      "source": [
        "def show_board(puzzle):\n",
        "            print(\"\"\"\\n+---+---+---+\n",
        "| {} | {} | {} |\n",
        "+---+---+---+\n",
        "| {} | {} | {} |\n",
        "+---+---+---+\n",
        "| {} | {} | {} |\n",
        "+---+---+---+\"\"\".format(puzzle[0], puzzle[1], puzzle[2], puzzle[3], puzzle[4], puzzle[5], puzzle[6], puzzle[7], puzzle[8]))"
      ],
      "metadata": {
        "id": "6WNNZwT0SEj5"
      },
      "execution_count": null,
      "outputs": []
    },
    {
      "cell_type": "code",
      "source": [
        "puzzle = enterBoard(puzzle)\n",
        "k=zeroindex(puzzle)\n",
        "if check(puzzle):\n",
        "    puzzle.append(k)\n",
        "    machineplay(puzzle)"
      ],
      "metadata": {
        "colab": {
          "base_uri": "https://localhost:8080/"
        },
        "id": "9tDp0Z6lSEng",
        "outputId": "b229880b-73a4-498a-f917-2a226bd39816"
      },
      "execution_count": null,
      "outputs": [
        {
          "output_type": "stream",
          "name": "stdout",
          "text": [
            "\n",
            "Enter the board values with spaces: \n",
            "1 0 3 4 2 5 7 8 6\n",
            "\n",
            "Is the following board correct?\n",
            "\n",
            "+---+---+---+\n",
            "| 1 | 0 | 3 |\n",
            "+---+---+---+\n",
            "| 4 | 2 | 5 |\n",
            "+---+---+---+\n",
            "| 7 | 8 | 6 |\n",
            "+---+---+---+\n",
            "\n",
            "\n",
            "[Y/N]: Y\n",
            "\n",
            "SOLVED!\n",
            "\n",
            "The steps to solve are:- \n",
            "DOWN, RIGHT, DOWN\n"
          ]
        }
      ]
    },
    {
      "cell_type": "code",
      "source": [
        "!pip install simpleai"
      ],
      "metadata": {
        "colab": {
          "base_uri": "https://localhost:8080/"
        },
        "id": "MyyiDZDcUTlb",
        "outputId": "8e897ef5-ccdb-4769-8fca-3ccfb85eb472"
      },
      "execution_count": null,
      "outputs": [
        {
          "output_type": "stream",
          "name": "stdout",
          "text": [
            "Collecting simpleai\n",
            "  Downloading simpleai-0.8.3.tar.gz (94 kB)\n",
            "\u001b[?25l\r\u001b[K     |███▌                            | 10 kB 18.2 MB/s eta 0:00:01\r\u001b[K     |███████                         | 20 kB 10.3 MB/s eta 0:00:01\r\u001b[K     |██████████▍                     | 30 kB 6.6 MB/s eta 0:00:01\r\u001b[K     |█████████████▉                  | 40 kB 3.7 MB/s eta 0:00:01\r\u001b[K     |█████████████████▍              | 51 kB 4.2 MB/s eta 0:00:01\r\u001b[K     |████████████████████▉           | 61 kB 4.4 MB/s eta 0:00:01\r\u001b[K     |████████████████████████▎       | 71 kB 4.6 MB/s eta 0:00:01\r\u001b[K     |███████████████████████████▊    | 81 kB 5.1 MB/s eta 0:00:01\r\u001b[K     |███████████████████████████████▎| 92 kB 5.3 MB/s eta 0:00:01\r\u001b[K     |████████████████████████████████| 94 kB 2.1 MB/s \n",
            "\u001b[?25hBuilding wheels for collected packages: simpleai\n",
            "  Building wheel for simpleai (setup.py) ... \u001b[?25l\u001b[?25hdone\n",
            "  Created wheel for simpleai: filename=simpleai-0.8.3-py3-none-any.whl size=101000 sha256=8e04a5674fc43c291dc60323e92ed6bcc787234f0097a5aa73c7e53e3b6f4372\n",
            "  Stored in directory: /root/.cache/pip/wheels/9a/d1/3b/ef0fc9aee7197e62482fc629181119aaacb684225057516de3\n",
            "Successfully built simpleai\n",
            "Installing collected packages: simpleai\n",
            "Successfully installed simpleai-0.8.3\n"
          ]
        }
      ]
    },
    {
      "cell_type": "code",
      "source": [
        "import math\n",
        "from simpleai.search import SearchProblem, astar\n",
        "class MazeSolver(SearchProblem):\n",
        "    def __init__(self, board):\n",
        "        self.board = board\n",
        "        self.goal = (0, 0)\n",
        "\n",
        "        for y in range(len(self.board)):\n",
        "            for x in range(len(self.board[y])):\n",
        "                if self.board[y][x].lower() == \"o\":\n",
        "                    self.initial = (x, y)\n",
        "                elif self.board[y][x].lower() == \"x\":\n",
        "                    self.goal = (x, y)\n",
        "\n",
        "        super(MazeSolver, self).__init__(initial_state=self.initial)\n",
        "\n",
        "    def actions(self, state):\n",
        "        actions = []\n",
        "        for action in COSTS.keys():\n",
        "            newx, newy = self.result(state, action)\n",
        "            if self.board[newy][newx] != \"#\":\n",
        "                actions.append(action)\n",
        "\n",
        "        return actions\n",
        "\n",
        "    def result(self, state, action):\n",
        "        x, y = state\n",
        "\n",
        "        if action.count(\"up\"):\n",
        "            y -= 1\n",
        "        if action.count(\"down\"):\n",
        "            y += 1\n",
        "        if action.count(\"left\"):\n",
        "            x -= 1\n",
        "        if action.count(\"right\"):\n",
        "            x += 1\n",
        "\n",
        "        new_state = (x, y)\n",
        "\n",
        "        return new_state\n",
        "\n",
        "    def is_goal(self, state):\n",
        "        return state == self.goal\n",
        "\n",
        "    def cost(self, state, action, state2):\n",
        "        return COSTS[action]\n",
        "\n",
        "    def heuristic(self, state):\n",
        "        x, y = state\n",
        "        gx, gy = self.goal\n",
        "\n",
        "        return math.sqrt((x - gx) ** 2 + (y - gy) ** 2)\n",
        "\n",
        "if __name__ == \"__main__\":\n",
        "\n",
        "    MAP = \"\"\"\n",
        "    ##############################\n",
        "    #         #              #   #\n",
        "    # ####    ########       #   #\n",
        "    #  o #    #              #   #\n",
        "    #    ###     #####  ######   #\n",
        "    #      #   ###   #           #\n",
        "    #      #     #   #  #  #   ###\n",
        "    #     #####    #    #  # x   #\n",
        "    #              #       #     #\n",
        "    ##############################\n",
        "    \"\"\"\n",
        "\n",
        "    print(MAP)\n",
        "    MAP = [list(x) for x in MAP.split(\"\\n\") if x]\n",
        "\n",
        "    cost_regular = 1.0\n",
        "    cost_diagonal = 1.7\n",
        "\n",
        "    COSTS = {\n",
        "        \"up\": cost_regular,\n",
        "        \"down\": cost_regular,\n",
        "        \"left\": cost_regular,\n",
        "        \"right\": cost_regular,\n",
        "        \"up left\": cost_diagonal,\n",
        "        \"up right\": cost_diagonal,\n",
        "        \"down left\": cost_diagonal,\n",
        "        \"down right\": cost_diagonal,\n",
        "    }\n",
        "\n",
        "    problem = MazeSolver(MAP)\n",
        "\n",
        "    result = astar(problem, graph_search=True)\n",
        "\n",
        "    path = [x[1] for x in result.path()]\n",
        "\n",
        "    print()\n",
        "    for y in range(len(MAP)):\n",
        "        for x in range(len(MAP[y])):\n",
        "            if (x, y) == problem.initial:\n",
        "                print('o', end='')\n",
        "            elif (x, y) == problem.goal:\n",
        "                print('x', end='')\n",
        "            elif (x, y) in path:\n",
        "                print('·', end='')\n",
        "            else:\n",
        "                print(MAP[y][x], end='')\n",
        "\n",
        "        print()\n"
      ],
      "metadata": {
        "colab": {
          "base_uri": "https://localhost:8080/"
        },
        "id": "Kue5J-7JUKjQ",
        "outputId": "6db0cdfc-c6c6-44f5-9853-083bf6e5b097"
      },
      "execution_count": null,
      "outputs": [
        {
          "output_type": "stream",
          "name": "stdout",
          "text": [
            "\n",
            "    ##############################\n",
            "    #         #              #   #\n",
            "    # ####    ########       #   #\n",
            "    #  o #    #              #   #\n",
            "    #    ###     #####  ######   #\n",
            "    #      #   ###   #           #\n",
            "    #      #     #   #  #  #   ###\n",
            "    #     #####    #    #  # x   #\n",
            "    #              #       #     #\n",
            "    ##############################\n",
            "    \n",
            "\n",
            "    ##############################\n",
            "    #         #              #   #\n",
            "    # ####    ########       #   #\n",
            "    #  o #    #              #   #\n",
            "    #   ·###     #####  ######   #\n",
            "    #    · #   ###   #  ····     #\n",
            "    #    · #     # ··# ·#  #·  ###\n",
            "    #    ·#####   ·# ·· #  # x   #\n",
            "    #     ········ #       #     #\n",
            "    ##############################\n",
            "    \n"
          ]
        }
      ]
    }
  ]
}